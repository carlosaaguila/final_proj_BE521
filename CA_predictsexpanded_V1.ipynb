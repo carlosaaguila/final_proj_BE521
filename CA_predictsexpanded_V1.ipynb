{
 "cells": [
  {
   "cell_type": "code",
   "execution_count": 46,
   "id": "d54acb11-c567-4565-9a46-677aa0093394",
   "metadata": {},
   "outputs": [],
   "source": [
    "import matplotlib.pyplot as plt\n",
    "import numpy as np\n",
    "import pandas as pd\n",
    "import pickle\n",
    "import scipy\n",
    "from scipy.stats import pearsonr\n",
    "from scipy import signal as sig\n",
    "from scipy.io import loadmat, savemat\n",
    "from scipy.signal import ellip, lfilter, filtfilt, find_peaks, butter, sosfiltfilt, sosfilt\n",
    "from scipy.interpolate import interp1d"
   ]
  },
  {
   "cell_type": "code",
   "execution_count": 14,
   "id": "6abcdeab-78b1-4d47-9226-b791766914a6",
   "metadata": {},
   "outputs": [],
   "source": [
    "LB_pred_s3 = np.load('/Users/carlosaguila/PycharmProjects/BE521_Proj/pycharm - be521/LB_pred_s3.npy')\n",
    "LB_pred_s2 = np.load('/Users/carlosaguila/PycharmProjects/BE521_Proj/pycharm - be521/LB_pred_s2.npy')\n",
    "LB_pred_s1 = np.load('/Users/carlosaguila/PycharmProjects/BE521_Proj/pycharm - be521/LB_pred_s1.npy')"
   ]
  },
  {
   "cell_type": "code",
   "execution_count": 15,
   "id": "9b628f7d-83eb-4e0a-80da-bc0569af89e5",
   "metadata": {},
   "outputs": [
    {
     "name": "stdout",
     "output_type": "stream",
     "text": [
      "(2949, 5)\n"
     ]
    }
   ],
   "source": [
    "print(np.shape(LB_pred_s3))"
   ]
  },
  {
   "cell_type": "code",
   "execution_count": 16,
   "id": "748603cc-c766-4163-81d5-50f599eb9490",
   "metadata": {},
   "outputs": [],
   "source": [
    "def repeat_preds(preds, window_to_time_ratio=50):\n",
    "    pred_all = []\n",
    "    for row in preds:\n",
    "        for i in range(window_to_time_ratio):\n",
    "            pred_all.append(row)\n",
    "\n",
    "    # For out problem, it is short 50 entries, so add the last row 50 more times\n",
    "    for i in range(window_to_time_ratio):\n",
    "        pred_all.append(row)\n",
    "    \n",
    "    return np.array(pred_all)\n",
    "\n",
    "def interp_preds(preds, time_length):\n",
    "    # N samples\n",
    "    preds_sample_orig = np.arange(len(preds))\n",
    "    \n",
    "    # T time points\n",
    "    preds_sample_target = np.arange(time_length)\n",
    "    \n",
    "    preds = preds.transpose()\n",
    "\n",
    "    preds_interp = []\n",
    "    \n",
    "    for finger_preds in preds:\n",
    "        f = interp1d(preds_sample_orig, finger_preds)\n",
    "        new_preds = f(preds_sample_target)\n",
    "        preds_interp.append(new_preds)\n",
    "    \n",
    "    preds_interp = np.array(preds_interp).transpose()\n",
    "    \n",
    "    return preds_interp\n",
    "\n",
    "def compute_corr(preds, truth):\n",
    "    subj_corr = []\n",
    "    for i in range(5):\n",
    "        finger_pred = preds.transpose()[i]\n",
    "        finger_truth = truth.transpose()[i]\n",
    "        subj_corr.append(pearsonr(finger_pred, finger_truth)[0])\n",
    "    \n",
    "    return subj_corr"
   ]
  },
  {
   "cell_type": "code",
   "execution_count": 30,
   "id": "2c160ef5-bb82-489b-9896-1918f79828aa",
   "metadata": {},
   "outputs": [],
   "source": [
    "LB_pred_s1_expanded = repeat_preds(LB_pred_s1,50)\n",
    "LB_pred_s2_expanded = repeat_preds(LB_pred_s2,50)\n",
    "LB_pred_s3_expanded = repeat_preds(LB_pred_s3,50)"
   ]
  },
  {
   "cell_type": "code",
   "execution_count": 33,
   "id": "94d0e86c-79ea-4187-9b51-85df9aadc47f",
   "metadata": {},
   "outputs": [
    {
     "name": "stdout",
     "output_type": "stream",
     "text": [
      "(147500, 5)\n"
     ]
    }
   ],
   "source": [
    "print(np.shape(LB_pred_s3_expanded))"
   ]
  },
  {
   "cell_type": "code",
   "execution_count": 50,
   "id": "688015f2-c3c8-4dc9-bf7a-fa52e899102e",
   "metadata": {},
   "outputs": [],
   "source": [
    "predictions = np.zeros((3,1),dtype=object)\n",
    "predictions[0,0] = LB_pred_s1_expanded\n",
    "predictions[1,0] = LB_pred_s2_expanded\n",
    "predictions[2,0] = LB_pred_s3_expanded\n",
    "\n",
    "savemat('/Users/carlosaguila/Downloads/predictions.mat', {'predicted_dg':predictions})"
   ]
  },
  {
   "cell_type": "code",
   "execution_count": 58,
   "id": "791fc7ec-9de3-4713-a59e-6e2d0b28ff26",
   "metadata": {},
   "outputs": [
    {
     "name": "stdout",
     "output_type": "stream",
     "text": [
      "(147500, 5)\n"
     ]
    }
   ],
   "source": [
    "print(np.shape(predictions[2,0]))"
   ]
  },
  {
   "cell_type": "code",
   "execution_count": null,
   "id": "bce7839b-a4ac-4bc8-a454-21713ca16030",
   "metadata": {},
   "outputs": [],
   "source": []
  }
 ],
 "metadata": {
  "kernelspec": {
   "display_name": "Python 3 (ipykernel)",
   "language": "python",
   "name": "python3"
  },
  "language_info": {
   "codemirror_mode": {
    "name": "ipython",
    "version": 3
   },
   "file_extension": ".py",
   "mimetype": "text/x-python",
   "name": "python",
   "nbconvert_exporter": "python",
   "pygments_lexer": "ipython3",
   "version": "3.9.7"
  }
 },
 "nbformat": 4,
 "nbformat_minor": 5
}
