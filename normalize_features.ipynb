{
 "cells": [
  {
   "cell_type": "code",
   "execution_count": 6,
   "id": "6c686a25",
   "metadata": {},
   "outputs": [],
   "source": [
    "import matplotlib.pyplot as plt\n",
    "import numpy as np\n",
    "import pandas as pd\n",
    "import pickle\n",
    "import scipy\n",
    "from scipy.stats import pearsonr\n",
    "from scipy import signal as sig\n",
    "from scipy.io import loadmat\n",
    "from scipy.signal import ellip, lfilter, filtfilt, find_peaks, butter, sosfiltfilt,sosfilt"
   ]
  },
  {
   "cell_type": "code",
   "execution_count": 7,
   "id": "77f69c2c",
   "metadata": {},
   "outputs": [],
   "source": [
    "%matplotlib inline"
   ]
  },
  {
   "cell_type": "code",
   "execution_count": 8,
   "id": "4110823d",
   "metadata": {},
   "outputs": [],
   "source": [
    "feats_s1_train = np.load('all_feats_s1_train_fx.npy')\n",
    "feats_s2_train = np.load('all_feats_s2_train_fx.npy')\n",
    "feats_s3_train = np.load('all_feats_s3_train_fx.npy')\n",
    "\n",
    "feats_s1_test = np.load('all_feats_s1_test_fx.npy')\n",
    "feats_s2_test = np.load('all_feats_s2_test_fx.npy')\n",
    "feats_s3_test = np.load('all_feats_s3_test_fx.npy')"
   ]
  },
  {
   "cell_type": "markdown",
   "id": "9a96bcf4",
   "metadata": {},
   "source": [
    "# Normalizing the features\n",
    "\n",
    "This script will normalize the features based on the training set"
   ]
  },
  {
   "cell_type": "code",
   "execution_count": 9,
   "id": "fd266b24",
   "metadata": {},
   "outputs": [],
   "source": [
    "def normalize_features(all_feats_train, all_feats_test, num_features):\n",
    "    # Input should be (num_windows x (channels x features))\n",
    "    # Num features is the number of unique features that were extracted\n",
    "    all_feats_train_norm = np.copy(all_feats_train)\n",
    "    all_feats_test_norm = np.copy(all_feats_test)\n",
    "    \n",
    "    feats_avg = []\n",
    "    feats_std = []\n",
    "    \n",
    "    for n in range(num_features):\n",
    "        feats_idx_train = np.arange(n,len(all_feats_train.transpose()),num_features)\n",
    "        \n",
    "        feat_data_train = all_feats_train[:][:,feats_idx_train]\n",
    "        \n",
    "        feat_means_train = np.mean(feat_data_train,axis=0)\n",
    "        feat_stds_train = np.std(feat_data_train,axis=0)\n",
    "        \n",
    "        all_feats_train_norm[:][:,feats_idx_train] = (feat_data_train - feat_means_train)/feat_stds_train\n",
    "        \n",
    "        # Note that we must use the same mean and std. dev from the TRAINING set\n",
    "        #     because regression models are sensitive to value domain as they are\n",
    "        #     scale-variant.\n",
    "        feats_idx_test = np.arange(n,len(all_feats_test.transpose()),num_features)\n",
    "        feat_data_test = all_feats_test[:][:,feats_idx_test]\n",
    "        all_feats_test_norm[:][:,feats_idx_test] = (feat_data_test - feat_means_train)/feat_stds_train\n",
    "        \n",
    "        # Sanity checking plot, comment out if you don't want plots\n",
    "#         if n == 0:\n",
    "#             plt.figure()\n",
    "#             plt.plot(feat_data_train.transpose()[0])\n",
    "#             plt.figure()\n",
    "#             plt.plot(all_feats_train_norm[:][:,feats_idx_train].transpose()[0])\n",
    "            \n",
    "#             plt.figure()\n",
    "#             plt.plot(feat_data_test.transpose()[0])\n",
    "#             plt.figure()\n",
    "#             plt.plot(all_feats_test_norm[:][:,feats_idx_test].transpose()[0])\n",
    "\n",
    "    return all_feats_train_norm, all_feats_test_norm\n",
    "    "
   ]
  },
  {
   "cell_type": "code",
   "execution_count": 10,
   "id": "3c9ae1d1",
   "metadata": {
    "scrolled": true
   },
   "outputs": [
    {
     "name": "stderr",
     "output_type": "stream",
     "text": [
      "<ipython-input-9-37efb986875c>:18: RuntimeWarning: invalid value encountered in true_divide\n",
      "  all_feats_train_norm[:][:,feats_idx_train] = (feat_data_train - feat_means_train)/feat_stds_train\n",
      "<ipython-input-9-37efb986875c>:25: RuntimeWarning: invalid value encountered in true_divide\n",
      "  all_feats_test_norm[:][:,feats_idx_test] = (feat_data_test - feat_means_train)/feat_stds_train\n"
     ]
    }
   ],
   "source": [
    "# NOTE: SPECIFY THIS MANUALLY, \n",
    "#       it's difficult to backwards engineer the feature number after flattening\n",
    "num_features = 7 # !!!!!!!!!!!!\n",
    "\n",
    "feats_s1_train_norm, feats_s1_test_norm = normalize_features(feats_s1_train, feats_s1_test, num_features)\n",
    "feats_s2_train_norm, feats_s2_test_norm = normalize_features(feats_s2_train, feats_s2_test, num_features)\n",
    "feats_s3_train_norm, feats_s3_test_norm = normalize_features(feats_s3_train, feats_s3_test, num_features)"
   ]
  },
  {
   "cell_type": "markdown",
   "id": "044a3e10",
   "metadata": {},
   "source": [
    "# Saving to files\n",
    "\n",
    "Specify your file names and directory as necessary."
   ]
  },
  {
   "cell_type": "code",
   "execution_count": 11,
   "id": "90972cd3",
   "metadata": {},
   "outputs": [],
   "source": [
    "# Save the training features\n",
    "file = open(\"all_feats_s1_norm_train_fx.npy\",\"wb\")\n",
    "np.save(file, feats_s1_train_norm)\n",
    "file.close()\n",
    "\n",
    "file = open(\"all_feats_s2_norm_train_fx.npy\",\"wb\")\n",
    "np.save(file, feats_s2_train_norm)\n",
    "file.close()\n",
    "\n",
    "file = open(\"all_feats_s3_norm_train_fx.npy\",\"wb\")\n",
    "np.save(file, feats_s3_train_norm)\n",
    "file.close()\n",
    "\n",
    "# Save the testing features\n",
    "file = open(\"all_feats_s1_norm_test_fx.npy\",\"wb\")\n",
    "np.save(file, feats_s1_test_norm)\n",
    "file.close()\n",
    "\n",
    "file = open(\"all_feats_s2_norm_test_fx.npy\",\"wb\")\n",
    "np.save(file, feats_s2_test_norm)\n",
    "file.close()\n",
    "\n",
    "file = open(\"all_feats_s3_norm_test_fx.npy\",\"wb\")\n",
    "np.save(file, feats_s3_test_norm)\n",
    "file.close()"
   ]
  }
 ],
 "metadata": {
  "kernelspec": {
   "display_name": "Python 3",
   "language": "python",
   "name": "python3"
  },
  "language_info": {
   "codemirror_mode": {
    "name": "ipython",
    "version": 3
   },
   "file_extension": ".py",
   "mimetype": "text/x-python",
   "name": "python",
   "nbconvert_exporter": "python",
   "pygments_lexer": "ipython3",
   "version": "3.9.6"
  }
 },
 "nbformat": 4,
 "nbformat_minor": 5
}
