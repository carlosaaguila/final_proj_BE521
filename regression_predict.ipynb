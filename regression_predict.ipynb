{
 "cells": [
  {
   "cell_type": "code",
   "execution_count": 1,
   "metadata": {},
   "outputs": [],
   "source": [
    "import matplotlib.pyplot as plt\n",
    "import numpy as np\n",
    "import pandas as pd\n",
    "import pickle\n",
    "import scipy\n",
    "from scipy.stats import pearsonr\n",
    "from scipy import signal as sig\n",
    "from scipy.io import loadmat"
   ]
  },
  {
   "cell_type": "code",
   "execution_count": 2,
   "metadata": {},
   "outputs": [],
   "source": [
    "%matplotlib inline"
   ]
  },
  {
   "cell_type": "code",
   "execution_count": 3,
   "metadata": {},
   "outputs": [],
   "source": [
    "#open data\n",
    "raw_training_data = loadmat('..\\\\raw_training_data.mat')"
   ]
  },
  {
   "cell_type": "code",
   "execution_count": 4,
   "metadata": {},
   "outputs": [],
   "source": [
    "#glove data for training - per subject\n",
    "train_dg_s1 = raw_training_data['train_dg'][0][0]\n",
    "train_dg_s2 = raw_training_data['train_dg'][1][0]\n",
    "train_dg_s3 = raw_training_data['train_dg'][2][0]"
   ]
  },
  {
   "cell_type": "code",
   "execution_count": 5,
   "metadata": {},
   "outputs": [],
   "source": [
    "train_dg_s1_downsample = train_dg_s1[::50][:-1]\n",
    "train_dg_s2_downsample = train_dg_s2[::50][:-1]\n",
    "train_dg_s3_downsample = train_dg_s3[::50][:-1]"
   ]
  },
  {
   "cell_type": "code",
   "execution_count": 6,
   "metadata": {},
   "outputs": [],
   "source": [
    "file_s1 = open(\"all_feats_s1_train_fx.npy\", \"rb\")\n",
    "feats_s1_train = np.load(file_s1)\n",
    "file_s1.close()\n",
    "\n",
    "file_s2 = open(\"all_feats_s2_train_fx.npy\", \"rb\")\n",
    "feats_s2_train = np.load(file_s2)\n",
    "file_s2.close()\n",
    "\n",
    "file_s3 = open(\"all_feats_s3_train_fx.npy\", \"rb\")\n",
    "feats_s3_train = np.load(file_s3)\n",
    "file_s3.close()"
   ]
  },
  {
   "cell_type": "markdown",
   "metadata": {},
   "source": [
    "## Prediction Interpolation"
   ]
  },
  {
   "cell_type": "code",
   "execution_count": 7,
   "metadata": {},
   "outputs": [],
   "source": [
    "from scipy.interpolate import interp1d\n",
    "from scipy.interpolate import CubicSpline"
   ]
  },
  {
   "cell_type": "code",
   "execution_count": 8,
   "metadata": {},
   "outputs": [],
   "source": [
    "def repeat_preds(preds, window_to_time_ratio=50):\n",
    "    pred_all = []\n",
    "    for row in preds:\n",
    "        for i in range(window_to_time_ratio):\n",
    "            pred_all.append(row)\n",
    "\n",
    "    # For out problem, it is short 50 entries, so add the last row 50 more times\n",
    "    for i in range(window_to_time_ratio):\n",
    "        pred_all.append(row)\n",
    "    \n",
    "    return np.array(pred_all)\n",
    "\n",
    "def interp_preds(preds, time_length):\n",
    "    # N samples\n",
    "    preds_sample_orig = np.arange(len(preds))\n",
    "    \n",
    "    # T time points\n",
    "    preds_sample_target = np.arange(time_length)\n",
    "    \n",
    "    preds = preds.transpose()\n",
    "\n",
    "    preds_interp = []\n",
    "    \n",
    "    for finger_preds in preds:\n",
    "        f = interp1d(preds_sample_orig, finger_preds)\n",
    "        new_preds = f(preds_sample_target)\n",
    "        preds_interp.append(new_preds)\n",
    "    \n",
    "    preds_interp = np.array(preds_interp).transpose()\n",
    "    \n",
    "    return preds_interp\n",
    "\n",
    "def spline_preds(preds, time_length):\n",
    "    # N samples\n",
    "    preds_sample_orig = np.arange(len(preds))\n",
    "    \n",
    "    # T time points\n",
    "    preds_sample_target = np.linspace(0,len(preds),time_length)\n",
    "    print(preds_sample_target)\n",
    "    preds = preds.transpose()\n",
    "\n",
    "    preds_interp = []\n",
    "    \n",
    "    for finger_preds in preds:\n",
    "        f = CubicSpline(preds_sample_orig, finger_preds)\n",
    "        new_preds = f(preds_sample_target)\n",
    "        preds_interp.append(new_preds)\n",
    "    \n",
    "    preds_interp = np.array(preds_interp).transpose()\n",
    "    \n",
    "    return preds_interp\n",
    "\n",
    "def compute_corr(preds, truth):\n",
    "    subj_corr = []\n",
    "    for i in range(5):\n",
    "        finger_pred = preds.transpose()[i]\n",
    "        finger_truth = truth.transpose()[i]\n",
    "        subj_corr.append(pearsonr(finger_pred, finger_truth)[0])\n",
    "    \n",
    "    return subj_corr"
   ]
  },
  {
   "cell_type": "markdown",
   "metadata": {},
   "source": [
    "## Subject 1"
   ]
  },
  {
   "cell_type": "code",
   "execution_count": 9,
   "metadata": {},
   "outputs": [
    {
     "name": "stderr",
     "output_type": "stream",
     "text": [
      "C:\\Users\\frede\\anaconda3\\envs\\shenlab\\lib\\site-packages\\sklearn\\base.py:310: UserWarning: Trying to unpickle estimator DecisionTreeRegressor from version 0.23.1 when using version 0.24.2. This might lead to breaking code or invalid results. Use at your own risk.\n",
      "  warnings.warn(\n",
      "C:\\Users\\frede\\anaconda3\\envs\\shenlab\\lib\\site-packages\\sklearn\\base.py:310: UserWarning: Trying to unpickle estimator RandomForestRegressor from version 0.23.1 when using version 0.24.2. This might lead to breaking code or invalid results. Use at your own risk.\n",
      "  warnings.warn(\n"
     ]
    }
   ],
   "source": [
    "reg_rfr_s1 = pickle.load(open('subject1_rfr_1000.model', 'rb'))\n",
    "pred_s1 = reg_rfr_s1.predict(feats_s1_train)"
   ]
  },
  {
   "cell_type": "code",
   "execution_count": 10,
   "metadata": {
    "scrolled": true
   },
   "outputs": [
    {
     "name": "stdout",
     "output_type": "stream",
     "text": [
      "(300000, 5)\n",
      "(300000, 5)\n"
     ]
    }
   ],
   "source": [
    "pred_s1_repeat = repeat_preds(pred_s1, 50)\n",
    "#pred_s1_interp = repeat_preds(pred_s1, len(train_dg_s1))\n",
    "print(pred_s1_repeat.shape)\n",
    "#print(pred_s1_interp.shape)\n",
    "print(train_dg_s1.shape)"
   ]
  },
  {
   "cell_type": "code",
   "execution_count": 11,
   "metadata": {
    "scrolled": true
   },
   "outputs": [],
   "source": [
    "# plt.scatter(train_dg_s1.transpose()[0], pred_s1_repeat.transpose()[0], s=3)\n",
    "# plt.scatter(train_dg_s1.transpose()[1], pred_s1_repeat.transpose()[1], s=3)\n",
    "# plt.scatter(train_dg_s1.transpose()[2], pred_s1_repeat.transpose()[2], s=3)\n",
    "# plt.scatter(train_dg_s1.transpose()[3], pred_s1_repeat.transpose()[3], s=3)\n",
    "# plt.scatter(train_dg_s1.transpose()[4], pred_s1_repeat.transpose()[4], s=3)\n"
   ]
  },
  {
   "cell_type": "code",
   "execution_count": 12,
   "metadata": {},
   "outputs": [
    {
     "name": "stdout",
     "output_type": "stream",
     "text": [
      "[0.8509975940194416, 0.8678952133705385, 0.8508496019190802, 0.8523504060311978, 0.8563484006033477]\n"
     ]
    }
   ],
   "source": [
    "subj1_corr = compute_corr(pred_s1_repeat, train_dg_s1)\n",
    "print(subj1_corr)"
   ]
  },
  {
   "cell_type": "markdown",
   "metadata": {},
   "source": [
    "## Subject 2"
   ]
  },
  {
   "cell_type": "code",
   "execution_count": 13,
   "metadata": {},
   "outputs": [
    {
     "name": "stderr",
     "output_type": "stream",
     "text": [
      "C:\\Users\\frede\\anaconda3\\envs\\shenlab\\lib\\site-packages\\sklearn\\base.py:310: UserWarning: Trying to unpickle estimator DecisionTreeRegressor from version 0.23.1 when using version 0.24.2. This might lead to breaking code or invalid results. Use at your own risk.\n",
      "  warnings.warn(\n",
      "C:\\Users\\frede\\anaconda3\\envs\\shenlab\\lib\\site-packages\\sklearn\\base.py:310: UserWarning: Trying to unpickle estimator RandomForestRegressor from version 0.23.1 when using version 0.24.2. This might lead to breaking code or invalid results. Use at your own risk.\n",
      "  warnings.warn(\n"
     ]
    }
   ],
   "source": [
    "reg_rfr_s2 = pickle.load(open('subject2_rfr_1000.model', 'rb'))\n",
    "pred_s2 = reg_rfr_s2.predict(feats_s2_train)"
   ]
  },
  {
   "cell_type": "code",
   "execution_count": 14,
   "metadata": {},
   "outputs": [
    {
     "name": "stdout",
     "output_type": "stream",
     "text": [
      "(300000, 5)\n",
      "(300000, 5)\n"
     ]
    }
   ],
   "source": [
    "pred_s2_repeat = repeat_preds(pred_s2, 50)\n",
    "#pred_s1_interp = repeat_preds(pred_s1, len(train_dg_s1))\n",
    "print(pred_s2_repeat.shape)\n",
    "#print(pred_s1_interp.shape)\n",
    "print(train_dg_s2.shape)"
   ]
  },
  {
   "cell_type": "code",
   "execution_count": 15,
   "metadata": {},
   "outputs": [],
   "source": [
    "# plt.scatter(train_dg_s2.transpose()[0], pred_s2_repeat.transpose()[0], s=3)\n",
    "# plt.scatter(train_dg_s2.transpose()[1], pred_s2_repeat.transpose()[1], s=3)\n",
    "# plt.scatter(train_dg_s2.transpose()[2], pred_s2_repeat.transpose()[2], s=3)\n",
    "# plt.scatter(train_dg_s2.transpose()[3], pred_s2_repeat.transpose()[3], s=3)\n",
    "# plt.scatter(train_dg_s2.transpose()[4], pred_s2_repeat.transpose()[4], s=3)\n"
   ]
  },
  {
   "cell_type": "code",
   "execution_count": 16,
   "metadata": {},
   "outputs": [
    {
     "name": "stdout",
     "output_type": "stream",
     "text": [
      "[0.8927546760119947, 0.8704563742705207, 0.8803957176961519, 0.8721810378991721, 0.8759741930241788]\n"
     ]
    }
   ],
   "source": [
    "subj2_corr = compute_corr(pred_s2_repeat, train_dg_s2)\n",
    "print(subj2_corr)"
   ]
  },
  {
   "cell_type": "markdown",
   "metadata": {},
   "source": [
    "## Subject 3"
   ]
  },
  {
   "cell_type": "code",
   "execution_count": 17,
   "metadata": {},
   "outputs": [
    {
     "name": "stderr",
     "output_type": "stream",
     "text": [
      "C:\\Users\\frede\\anaconda3\\envs\\shenlab\\lib\\site-packages\\sklearn\\base.py:310: UserWarning: Trying to unpickle estimator DecisionTreeRegressor from version 0.23.1 when using version 0.24.2. This might lead to breaking code or invalid results. Use at your own risk.\n",
      "  warnings.warn(\n",
      "C:\\Users\\frede\\anaconda3\\envs\\shenlab\\lib\\site-packages\\sklearn\\base.py:310: UserWarning: Trying to unpickle estimator RandomForestRegressor from version 0.23.1 when using version 0.24.2. This might lead to breaking code or invalid results. Use at your own risk.\n",
      "  warnings.warn(\n"
     ]
    }
   ],
   "source": [
    "reg_rfr_s3 = pickle.load(open('subject3_rfr_1000.model', 'rb'))\n",
    "pred_s3 = reg_rfr_s3.predict(feats_s3_train)"
   ]
  },
  {
   "cell_type": "code",
   "execution_count": 18,
   "metadata": {},
   "outputs": [
    {
     "name": "stdout",
     "output_type": "stream",
     "text": [
      "(300000, 5)\n",
      "(300000, 5)\n"
     ]
    }
   ],
   "source": [
    "pred_s3_repeat = repeat_preds(pred_s3, 50)\n",
    "#pred_s1_interp = repeat_preds(pred_s1, len(train_dg_s1))\n",
    "print(pred_s3_repeat.shape)\n",
    "#print(pred_s1_interp.shape)\n",
    "print(train_dg_s3.shape)"
   ]
  },
  {
   "cell_type": "code",
   "execution_count": 19,
   "metadata": {},
   "outputs": [],
   "source": [
    "# plt.scatter(train_dg_s3.transpose()[0], pred_s3_repeat.transpose()[0], s=3)\n",
    "# plt.scatter(train_dg_s3.transpose()[1], pred_s3_repeat.transpose()[1], s=3)\n",
    "# plt.scatter(train_dg_s3.transpose()[2], pred_s3_repeat.transpose()[2], s=3)\n",
    "# plt.scatter(train_dg_s3.transpose()[3], pred_s3_repeat.transpose()[3], s=3)\n",
    "# plt.scatter(train_dg_s3.transpose()[4], pred_s3_repeat.transpose()[4], s=3)\n"
   ]
  },
  {
   "cell_type": "code",
   "execution_count": 20,
   "metadata": {},
   "outputs": [
    {
     "name": "stdout",
     "output_type": "stream",
     "text": [
      "[0.8978521447564057, 0.8819424136601375, 0.884203991853101, 0.8921962863843796, 0.8916418227539928]\n"
     ]
    }
   ],
   "source": [
    "subj3_corr = compute_corr(pred_s3_repeat, train_dg_s3)\n",
    "print(subj3_corr)"
   ]
  },
  {
   "cell_type": "markdown",
   "metadata": {},
   "source": [
    "# Predict Leaderboard"
   ]
  },
  {
   "cell_type": "code",
   "execution_count": 21,
   "metadata": {},
   "outputs": [],
   "source": [
    "file_s1 = open(\"all_feats_s1_test_fx.npy\", \"rb\")\n",
    "feats_s1_test = np.load(file_s1)\n",
    "file_s1.close()\n",
    "\n",
    "file_s2 = open(\"all_feats_s2_test_fx.npy\", \"rb\")\n",
    "feats_s2_test = np.load(file_s2)\n",
    "file_s2.close()\n",
    "\n",
    "file_s3 = open(\"all_feats_s3_test_fx.npy\", \"rb\")\n",
    "feats_s3_test = np.load(file_s3)\n",
    "file_s3.close()"
   ]
  },
  {
   "cell_type": "code",
   "execution_count": 22,
   "metadata": {
    "scrolled": true
   },
   "outputs": [
    {
     "name": "stdout",
     "output_type": "stream",
     "text": [
      "(147500, 5)\n",
      "(147500, 5)\n",
      "(147500, 5)\n"
     ]
    }
   ],
   "source": [
    "pred_s1_test = reg_rfr_s1.predict(feats_s1_test)\n",
    "pred_s1_test_repeat = repeat_preds(pred_s1_test, 50)\n",
    "\n",
    "print(pred_s1_test_repeat.shape)\n",
    "\n",
    "pred_s2_test = reg_rfr_s2.predict(feats_s2_test)\n",
    "pred_s2_test_repeat = repeat_preds(pred_s2_test, 50)\n",
    "\n",
    "print(pred_s2_test_repeat.shape)\n",
    "\n",
    "pred_s3_test = reg_rfr_s3.predict(feats_s3_test)\n",
    "pred_s3_test_repeat = repeat_preds(pred_s3_test, 50)\n",
    "\n",
    "print(pred_s3_test_repeat.shape)\n"
   ]
  },
  {
   "cell_type": "code",
   "execution_count": 46,
   "metadata": {},
   "outputs": [
    {
     "name": "stdout",
     "output_type": "stream",
     "text": [
      "[0.00000000e+00 1.99933559e-02 3.99867118e-02 ... 2.94896001e+03\n",
      " 2.94898001e+03 2.94900000e+03]\n",
      "[0.00000000e+00 1.99933559e-02 3.99867118e-02 ... 2.94896001e+03\n",
      " 2.94898001e+03 2.94900000e+03]\n",
      "[0.00000000e+00 1.99933559e-02 3.99867118e-02 ... 2.94896001e+03\n",
      " 2.94898001e+03 2.94900000e+03]\n"
     ]
    }
   ],
   "source": [
    "pred_s1_test_spline = spline_preds(pred_s1_test, 147500)\n",
    "pred_s1_test_spline[-50:] = pred_s1_test[-1] # The last 50 entries of the spline are screwed up\n",
    "pred_s2_test_spline = spline_preds(pred_s2_test, 147500)\n",
    "pred_s2_test_spline[-50:] = pred_s2_test[-1]\n",
    "pred_s3_test_spline = spline_preds(pred_s3_test, 147500)\n",
    "pred_s3_test_spline[-50:] = pred_s3_test[-1]"
   ]
  },
  {
   "cell_type": "code",
   "execution_count": 24,
   "metadata": {
    "scrolled": true
   },
   "outputs": [
    {
     "name": "stdout",
     "output_type": "stream",
     "text": [
      "[[-0.04091421  0.48545975 -0.07371311 -0.34327264 -0.01332183]\n",
      " [ 0.09499978  0.13051456  0.07991981 -0.03064465  0.15921677]\n",
      " [-0.0180835  -0.04047745  0.00453906 -0.01022392  0.02311694]\n",
      " ...\n",
      " [-0.28334525  0.05703866 -0.04816816  0.19054964  0.08246329]\n",
      " [-0.12864375 -0.10058436  0.79921624  0.21573099 -0.18461104]\n",
      " [-0.22778799  0.06357246  0.64529431  0.21631655  0.02661535]]\n",
      "[[-4.09142056e-02  4.85459754e-01 -7.37131090e-02 -3.43272637e-01\n",
      "  -1.33218250e-02]\n",
      " [-3.47320483e-02  4.85968228e-01 -6.43571903e-02 -3.34249569e-01\n",
      "  -1.91130672e-03]\n",
      " [-2.87115485e-02  4.85980294e-01 -5.53376235e-02 -3.25337846e-01\n",
      "   9.07671314e-03]\n",
      " ...\n",
      " [-1.06102389e+00  1.36588868e+00 -2.75959812e+00  1.72731599e-01\n",
      "   1.56975630e+00]\n",
      " [-1.08953979e+00  1.41079580e+00 -2.88055112e+00  1.71217864e-01\n",
      "   1.62205304e+00]\n",
      " [-1.11858282e+00  1.45654945e+00 -3.00387827e+00  1.69676385e-01\n",
      "   1.67530012e+00]]\n"
     ]
    }
   ],
   "source": [
    "print(pred_s1_test)\n",
    "print(pred_s1_test_spline)\n"
   ]
  },
  {
   "cell_type": "code",
   "execution_count": 38,
   "metadata": {},
   "outputs": [
    {
     "name": "stdout",
     "output_type": "stream",
     "text": [
      "147450\n"
     ]
    }
   ],
   "source": [
    "print(len(pred_s2_test)*50)"
   ]
  },
  {
   "cell_type": "code",
   "execution_count": 45,
   "metadata": {},
   "outputs": [
    {
     "data": {
      "text/plain": [
       "[<matplotlib.lines.Line2D at 0x1dbb081c6a0>]"
      ]
     },
     "execution_count": 45,
     "metadata": {},
     "output_type": "execute_result"
    },
    {
     "data": {
      "image/png": "[encoded data removed]",
      "text/plain": [
       "<Figure size 864x432 with 1 Axes>"
      ]
     },
     "metadata": {
      "needs_background": "light"
     },
     "output_type": "display_data"
    }
   ],
   "source": [
    "plt.figure(figsize=(12,6))\n",
    "plt.plot(np.arange(len(pred_s2_test))[-5:], pred_s2_test.transpose()[0][-5:])\n",
    "plt.plot(np.linspace(0,len(pred_s2_test),147500)[-250:], pred_s2_test_spline.transpose()[0][-250:])"
   ]
  },
  {
   "cell_type": "code",
   "execution_count": 26,
   "metadata": {},
   "outputs": [
    {
     "name": "stdout",
     "output_type": "stream",
     "text": [
      "0\n",
      "0\n",
      "0\n"
     ]
    }
   ],
   "source": [
    "print(np.sum(np.isnan(pred_s1_test_repeat)))\n",
    "print(np.sum(np.isnan(pred_s2_test_repeat)))\n",
    "print(np.sum(np.isnan(pred_s3_test_repeat)))\n"
   ]
  },
  {
   "cell_type": "code",
   "execution_count": 27,
   "metadata": {},
   "outputs": [],
   "source": [
    "from scipy.io import savemat"
   ]
  },
  {
   "cell_type": "code",
   "execution_count": 28,
   "metadata": {},
   "outputs": [],
   "source": [
    "predictions_array = np.zeros((3,1), dtype=object)\n",
    "predictions_array[0,0] = pred_s1_test_repeat\n",
    "predictions_array[1,0] = pred_s2_test_repeat\n",
    "predictions_array[2,0] = pred_s3_test_repeat\n"
   ]
  },
  {
   "cell_type": "code",
   "execution_count": 29,
   "metadata": {},
   "outputs": [],
   "source": [
    "savemat('predictions.mat', {'predicted_dg':predictions_array})"
   ]
  },
  {
   "cell_type": "code",
   "execution_count": 30,
   "metadata": {},
   "outputs": [],
   "source": [
    "predictions_array_spline = np.zeros((3,1), dtype=object)\n",
    "predictions_array_spline[0,0] = pred_s1_test_spline\n",
    "predictions_array_spline[1,0] = pred_s2_test_spline\n",
    "predictions_array_spline[2,0] = pred_s3_test_spline\n",
    "\n",
    "savemat('predictions_v2.mat', {'predicted_dg':predictions_array_spline})"
   ]
  }
 ],
 "metadata": {
  "kernelspec": {
   "display_name": "Python 3",
   "language": "python",
   "name": "python3"
  },
  "language_info": {
   "codemirror_mode": {
    "name": "ipython",
    "version": 3
   },
   "file_extension": ".py",
   "mimetype": "text/x-python",
   "name": "python",
   "nbconvert_exporter": "python",
   "pygments_lexer": "ipython3",
   "version": "3.9.6"
  }
 },
 "nbformat": 4,
 "nbformat_minor": 4
}
